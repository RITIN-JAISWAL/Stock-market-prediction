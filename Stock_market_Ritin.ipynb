{
 "cells": [
  {
   "cell_type": "markdown",
   "metadata": {},
   "source": [
    "# LSTM+RNN"
   ]
  },
  {
   "cell_type": "code",
   "execution_count": 51,
   "metadata": {},
   "outputs": [],
   "source": [
    "# Importing the libraries\n",
    "import numpy as np\n",
    "import matplotlib.pyplot as plt\n",
    "import pandas as pd\n",
    "import pandas_datareader.data as web\n",
    "from pmdarima import auto_arima"
   ]
  },
  {
   "cell_type": "code",
   "execution_count": 52,
   "metadata": {},
   "outputs": [],
   "source": [
    "#get the data\n",
    "df=web.DataReader('AAPL',data_source='yahoo',start='2012-01-01',end='2020-5-02')\n",
    "dataset_hol=pd.DataFrame(data=df)\n",
    "dataset_hol\n",
    "dataset_hol=dataset_hol.reset_index()\n",
    "dataset_train = dataset_hol[dataset_hol['Date']<'2020-01-01'].copy()\n",
    "dataset_train\n",
    "dataset_test = dataset_hol[dataset_hol['Date']>'2020-01-01'].copy()\n",
    "dataset_test\n",
    "dataset_test['Date'] = pd.to_datetime(dataset_test.Date,format='%Y-%m-%d')\n",
    "dataset_train['Date'] = pd.to_datetime(dataset_train.Date,format='%Y-%m-%d')\n",
    "dataset_train.to_csv ('C:\\\\Users\\\\RITIN JAISWAL\\\\Desktop\\\\MLDM\\\\Train.csv', index = False, header=True)\n",
    "dataset_test.to_csv ('C:\\\\Users\\\\RITIN JAISWAL\\\\Desktop\\\\MLDM\\\\Test.csv', index = False, header=True)\n"
   ]
  },
  {
   "cell_type": "code",
   "execution_count": 53,
   "metadata": {},
   "outputs": [],
   "source": [
    "\n",
    "dataset_test.index = dataset_test['Date']\n",
    "dataset_train.index = dataset_train['Date']\n",
    "dataset_train=dataset_train.drop(['Date'], axis=1)\n",
    "dataset_test=dataset_test.drop(['Date'], axis=1)"
   ]
  },
  {
   "cell_type": "code",
   "execution_count": 54,
   "metadata": {},
   "outputs": [
    {
     "data": {
      "text/html": [
       "<div>\n",
       "<style scoped>\n",
       "    .dataframe tbody tr th:only-of-type {\n",
       "        vertical-align: middle;\n",
       "    }\n",
       "\n",
       "    .dataframe tbody tr th {\n",
       "        vertical-align: top;\n",
       "    }\n",
       "\n",
       "    .dataframe thead th {\n",
       "        text-align: right;\n",
       "    }\n",
       "</style>\n",
       "<table border=\"1\" class=\"dataframe\">\n",
       "  <thead>\n",
       "    <tr style=\"text-align: right;\">\n",
       "      <th></th>\n",
       "      <th>High</th>\n",
       "      <th>Low</th>\n",
       "      <th>Open</th>\n",
       "      <th>Close</th>\n",
       "      <th>Volume</th>\n",
       "      <th>Adj Close</th>\n",
       "    </tr>\n",
       "    <tr>\n",
       "      <th>Date</th>\n",
       "      <th></th>\n",
       "      <th></th>\n",
       "      <th></th>\n",
       "      <th></th>\n",
       "      <th></th>\n",
       "      <th></th>\n",
       "    </tr>\n",
       "  </thead>\n",
       "  <tbody>\n",
       "    <tr>\n",
       "      <th>2012-01-03</th>\n",
       "      <td>58.928570</td>\n",
       "      <td>58.428570</td>\n",
       "      <td>58.485714</td>\n",
       "      <td>58.747143</td>\n",
       "      <td>75555200.0</td>\n",
       "      <td>50.994907</td>\n",
       "    </tr>\n",
       "    <tr>\n",
       "      <th>2012-01-04</th>\n",
       "      <td>59.240002</td>\n",
       "      <td>58.468571</td>\n",
       "      <td>58.571430</td>\n",
       "      <td>59.062859</td>\n",
       "      <td>65005500.0</td>\n",
       "      <td>51.268970</td>\n",
       "    </tr>\n",
       "    <tr>\n",
       "      <th>2012-01-05</th>\n",
       "      <td>59.792858</td>\n",
       "      <td>58.952858</td>\n",
       "      <td>59.278572</td>\n",
       "      <td>59.718571</td>\n",
       "      <td>67817400.0</td>\n",
       "      <td>51.838169</td>\n",
       "    </tr>\n",
       "    <tr>\n",
       "      <th>2012-01-06</th>\n",
       "      <td>60.392857</td>\n",
       "      <td>59.888573</td>\n",
       "      <td>59.967144</td>\n",
       "      <td>60.342857</td>\n",
       "      <td>79573200.0</td>\n",
       "      <td>52.380054</td>\n",
       "    </tr>\n",
       "    <tr>\n",
       "      <th>2012-01-09</th>\n",
       "      <td>61.107143</td>\n",
       "      <td>60.192856</td>\n",
       "      <td>60.785713</td>\n",
       "      <td>60.247143</td>\n",
       "      <td>98506100.0</td>\n",
       "      <td>52.296970</td>\n",
       "    </tr>\n",
       "    <tr>\n",
       "      <th>...</th>\n",
       "      <td>...</td>\n",
       "      <td>...</td>\n",
       "      <td>...</td>\n",
       "      <td>...</td>\n",
       "      <td>...</td>\n",
       "      <td>...</td>\n",
       "    </tr>\n",
       "    <tr>\n",
       "      <th>2019-12-24</th>\n",
       "      <td>284.890015</td>\n",
       "      <td>282.920013</td>\n",
       "      <td>284.690002</td>\n",
       "      <td>284.269989</td>\n",
       "      <td>12119700.0</td>\n",
       "      <td>283.596924</td>\n",
       "    </tr>\n",
       "    <tr>\n",
       "      <th>2019-12-26</th>\n",
       "      <td>289.980011</td>\n",
       "      <td>284.700012</td>\n",
       "      <td>284.820007</td>\n",
       "      <td>289.910004</td>\n",
       "      <td>23280300.0</td>\n",
       "      <td>289.223602</td>\n",
       "    </tr>\n",
       "    <tr>\n",
       "      <th>2019-12-27</th>\n",
       "      <td>293.970001</td>\n",
       "      <td>288.119995</td>\n",
       "      <td>291.119995</td>\n",
       "      <td>289.799988</td>\n",
       "      <td>36566500.0</td>\n",
       "      <td>289.113831</td>\n",
       "    </tr>\n",
       "    <tr>\n",
       "      <th>2019-12-30</th>\n",
       "      <td>292.690002</td>\n",
       "      <td>285.220001</td>\n",
       "      <td>289.459991</td>\n",
       "      <td>291.519989</td>\n",
       "      <td>36028600.0</td>\n",
       "      <td>290.829773</td>\n",
       "    </tr>\n",
       "    <tr>\n",
       "      <th>2019-12-31</th>\n",
       "      <td>293.679993</td>\n",
       "      <td>289.519989</td>\n",
       "      <td>289.929993</td>\n",
       "      <td>293.649994</td>\n",
       "      <td>25201400.0</td>\n",
       "      <td>292.954712</td>\n",
       "    </tr>\n",
       "  </tbody>\n",
       "</table>\n",
       "<p>2012 rows × 6 columns</p>\n",
       "</div>"
      ],
      "text/plain": [
       "                  High         Low        Open       Close      Volume  \\\n",
       "Date                                                                     \n",
       "2012-01-03   58.928570   58.428570   58.485714   58.747143  75555200.0   \n",
       "2012-01-04   59.240002   58.468571   58.571430   59.062859  65005500.0   \n",
       "2012-01-05   59.792858   58.952858   59.278572   59.718571  67817400.0   \n",
       "2012-01-06   60.392857   59.888573   59.967144   60.342857  79573200.0   \n",
       "2012-01-09   61.107143   60.192856   60.785713   60.247143  98506100.0   \n",
       "...                ...         ...         ...         ...         ...   \n",
       "2019-12-24  284.890015  282.920013  284.690002  284.269989  12119700.0   \n",
       "2019-12-26  289.980011  284.700012  284.820007  289.910004  23280300.0   \n",
       "2019-12-27  293.970001  288.119995  291.119995  289.799988  36566500.0   \n",
       "2019-12-30  292.690002  285.220001  289.459991  291.519989  36028600.0   \n",
       "2019-12-31  293.679993  289.519989  289.929993  293.649994  25201400.0   \n",
       "\n",
       "             Adj Close  \n",
       "Date                    \n",
       "2012-01-03   50.994907  \n",
       "2012-01-04   51.268970  \n",
       "2012-01-05   51.838169  \n",
       "2012-01-06   52.380054  \n",
       "2012-01-09   52.296970  \n",
       "...                ...  \n",
       "2019-12-24  283.596924  \n",
       "2019-12-26  289.223602  \n",
       "2019-12-27  289.113831  \n",
       "2019-12-30  290.829773  \n",
       "2019-12-31  292.954712  \n",
       "\n",
       "[2012 rows x 6 columns]"
      ]
     },
     "execution_count": 54,
     "metadata": {},
     "output_type": "execute_result"
    }
   ],
   "source": [
    "dataset_train"
   ]
  },
  {
   "cell_type": "code",
   "execution_count": 55,
   "metadata": {},
   "outputs": [
    {
     "data": {
      "text/html": [
       "<div>\n",
       "<style scoped>\n",
       "    .dataframe tbody tr th:only-of-type {\n",
       "        vertical-align: middle;\n",
       "    }\n",
       "\n",
       "    .dataframe tbody tr th {\n",
       "        vertical-align: top;\n",
       "    }\n",
       "\n",
       "    .dataframe thead th {\n",
       "        text-align: right;\n",
       "    }\n",
       "</style>\n",
       "<table border=\"1\" class=\"dataframe\">\n",
       "  <thead>\n",
       "    <tr style=\"text-align: right;\">\n",
       "      <th></th>\n",
       "      <th>High</th>\n",
       "      <th>Low</th>\n",
       "      <th>Open</th>\n",
       "      <th>Close</th>\n",
       "      <th>Volume</th>\n",
       "      <th>Adj Close</th>\n",
       "    </tr>\n",
       "    <tr>\n",
       "      <th>Date</th>\n",
       "      <th></th>\n",
       "      <th></th>\n",
       "      <th></th>\n",
       "      <th></th>\n",
       "      <th></th>\n",
       "      <th></th>\n",
       "    </tr>\n",
       "  </thead>\n",
       "  <tbody>\n",
       "    <tr>\n",
       "      <th>2020-01-02</th>\n",
       "      <td>300.600006</td>\n",
       "      <td>295.190002</td>\n",
       "      <td>296.239990</td>\n",
       "      <td>300.350006</td>\n",
       "      <td>33870100.0</td>\n",
       "      <td>299.638885</td>\n",
       "    </tr>\n",
       "    <tr>\n",
       "      <th>2020-01-03</th>\n",
       "      <td>300.579987</td>\n",
       "      <td>296.500000</td>\n",
       "      <td>297.149994</td>\n",
       "      <td>297.429993</td>\n",
       "      <td>36580700.0</td>\n",
       "      <td>296.725769</td>\n",
       "    </tr>\n",
       "    <tr>\n",
       "      <th>2020-01-06</th>\n",
       "      <td>299.959991</td>\n",
       "      <td>292.750000</td>\n",
       "      <td>293.790009</td>\n",
       "      <td>299.799988</td>\n",
       "      <td>29596800.0</td>\n",
       "      <td>299.090149</td>\n",
       "    </tr>\n",
       "    <tr>\n",
       "      <th>2020-01-07</th>\n",
       "      <td>300.899994</td>\n",
       "      <td>297.480011</td>\n",
       "      <td>299.839996</td>\n",
       "      <td>298.390015</td>\n",
       "      <td>27218000.0</td>\n",
       "      <td>297.683533</td>\n",
       "    </tr>\n",
       "    <tr>\n",
       "      <th>2020-01-08</th>\n",
       "      <td>304.440002</td>\n",
       "      <td>297.160004</td>\n",
       "      <td>297.160004</td>\n",
       "      <td>303.190002</td>\n",
       "      <td>33019800.0</td>\n",
       "      <td>302.472137</td>\n",
       "    </tr>\n",
       "    <tr>\n",
       "      <th>...</th>\n",
       "      <td>...</td>\n",
       "      <td>...</td>\n",
       "      <td>...</td>\n",
       "      <td>...</td>\n",
       "      <td>...</td>\n",
       "      <td>...</td>\n",
       "    </tr>\n",
       "    <tr>\n",
       "      <th>2020-04-27</th>\n",
       "      <td>284.540009</td>\n",
       "      <td>279.950012</td>\n",
       "      <td>281.799988</td>\n",
       "      <td>283.170013</td>\n",
       "      <td>29271900.0</td>\n",
       "      <td>283.170013</td>\n",
       "    </tr>\n",
       "    <tr>\n",
       "      <th>2020-04-28</th>\n",
       "      <td>285.829987</td>\n",
       "      <td>278.200012</td>\n",
       "      <td>285.079987</td>\n",
       "      <td>278.579987</td>\n",
       "      <td>28001200.0</td>\n",
       "      <td>278.579987</td>\n",
       "    </tr>\n",
       "    <tr>\n",
       "      <th>2020-04-29</th>\n",
       "      <td>289.670013</td>\n",
       "      <td>283.890015</td>\n",
       "      <td>284.730011</td>\n",
       "      <td>287.730011</td>\n",
       "      <td>34320200.0</td>\n",
       "      <td>287.730011</td>\n",
       "    </tr>\n",
       "    <tr>\n",
       "      <th>2020-04-30</th>\n",
       "      <td>294.529999</td>\n",
       "      <td>288.350006</td>\n",
       "      <td>289.959991</td>\n",
       "      <td>293.799988</td>\n",
       "      <td>45766000.0</td>\n",
       "      <td>293.799988</td>\n",
       "    </tr>\n",
       "    <tr>\n",
       "      <th>2020-05-01</th>\n",
       "      <td>299.000000</td>\n",
       "      <td>285.850006</td>\n",
       "      <td>286.250000</td>\n",
       "      <td>289.070007</td>\n",
       "      <td>60095200.0</td>\n",
       "      <td>289.070007</td>\n",
       "    </tr>\n",
       "  </tbody>\n",
       "</table>\n",
       "<p>84 rows × 6 columns</p>\n",
       "</div>"
      ],
      "text/plain": [
       "                  High         Low        Open       Close      Volume  \\\n",
       "Date                                                                     \n",
       "2020-01-02  300.600006  295.190002  296.239990  300.350006  33870100.0   \n",
       "2020-01-03  300.579987  296.500000  297.149994  297.429993  36580700.0   \n",
       "2020-01-06  299.959991  292.750000  293.790009  299.799988  29596800.0   \n",
       "2020-01-07  300.899994  297.480011  299.839996  298.390015  27218000.0   \n",
       "2020-01-08  304.440002  297.160004  297.160004  303.190002  33019800.0   \n",
       "...                ...         ...         ...         ...         ...   \n",
       "2020-04-27  284.540009  279.950012  281.799988  283.170013  29271900.0   \n",
       "2020-04-28  285.829987  278.200012  285.079987  278.579987  28001200.0   \n",
       "2020-04-29  289.670013  283.890015  284.730011  287.730011  34320200.0   \n",
       "2020-04-30  294.529999  288.350006  289.959991  293.799988  45766000.0   \n",
       "2020-05-01  299.000000  285.850006  286.250000  289.070007  60095200.0   \n",
       "\n",
       "             Adj Close  \n",
       "Date                    \n",
       "2020-01-02  299.638885  \n",
       "2020-01-03  296.725769  \n",
       "2020-01-06  299.090149  \n",
       "2020-01-07  297.683533  \n",
       "2020-01-08  302.472137  \n",
       "...                ...  \n",
       "2020-04-27  283.170013  \n",
       "2020-04-28  278.579987  \n",
       "2020-04-29  287.730011  \n",
       "2020-04-30  293.799988  \n",
       "2020-05-01  289.070007  \n",
       "\n",
       "[84 rows x 6 columns]"
      ]
     },
     "execution_count": 55,
     "metadata": {},
     "output_type": "execute_result"
    }
   ],
   "source": [
    "dataset_test"
   ]
  },
  {
   "cell_type": "code",
   "execution_count": 56,
   "metadata": {
    "scrolled": false
   },
   "outputs": [
    {
     "name": "stdout",
     "output_type": "stream",
     "text": [
      "Epoch 1/100\n",
      "1952/1952 [==============================] - 7s 3ms/step - loss: 0.0157\n",
      "Epoch 2/100\n",
      "1952/1952 [==============================] - 5s 3ms/step - loss: 0.0029\n",
      "Epoch 3/100\n",
      "1952/1952 [==============================] - 6s 3ms/step - loss: 0.0028\n",
      "Epoch 4/100\n",
      "1952/1952 [==============================] - 7s 4ms/step - loss: 0.0023\n",
      "Epoch 5/100\n",
      "1952/1952 [==============================] - 7s 3ms/step - loss: 0.0022\n",
      "Epoch 6/100\n",
      "1952/1952 [==============================] - 7s 3ms/step - loss: 0.0020\n",
      "Epoch 7/100\n",
      "1952/1952 [==============================] - 7s 3ms/step - loss: 0.0021\n",
      "Epoch 8/100\n",
      "1952/1952 [==============================] - 7s 3ms/step - loss: 0.0019\n",
      "Epoch 9/100\n",
      "1952/1952 [==============================] - 7s 3ms/step - loss: 0.0017\n",
      "Epoch 10/100\n",
      "1952/1952 [==============================] - 7s 3ms/step - loss: 0.0020\n",
      "Epoch 11/100\n",
      "1952/1952 [==============================] - 7s 3ms/step - loss: 0.0017\n",
      "Epoch 12/100\n",
      "1952/1952 [==============================] - 7s 3ms/step - loss: 0.0017\n",
      "Epoch 13/100\n",
      "1952/1952 [==============================] - 7s 3ms/step - loss: 0.0016\n",
      "Epoch 14/100\n",
      "1952/1952 [==============================] - 7s 3ms/step - loss: 0.0016\n",
      "Epoch 15/100\n",
      "1952/1952 [==============================] - 7s 3ms/step - loss: 0.0015\n",
      "Epoch 16/100\n",
      "1952/1952 [==============================] - 7s 3ms/step - loss: 0.0015\n",
      "Epoch 17/100\n",
      "1952/1952 [==============================] - 7s 3ms/step - loss: 0.0013\n",
      "Epoch 18/100\n",
      "1952/1952 [==============================] - 7s 3ms/step - loss: 0.0012\n",
      "Epoch 19/100\n",
      "1952/1952 [==============================] - 7s 3ms/step - loss: 0.0015\n",
      "Epoch 20/100\n",
      "1952/1952 [==============================] - 7s 3ms/step - loss: 0.0014\n",
      "Epoch 21/100\n",
      "1952/1952 [==============================] - 7s 3ms/step - loss: 0.0013\n",
      "Epoch 22/100\n",
      "1952/1952 [==============================] - 7s 3ms/step - loss: 0.0013\n",
      "Epoch 23/100\n",
      "1952/1952 [==============================] - 7s 3ms/step - loss: 0.0012\n",
      "Epoch 24/100\n",
      "1952/1952 [==============================] - 7s 4ms/step - loss: 0.0012\n",
      "Epoch 25/100\n",
      "1952/1952 [==============================] - 7s 4ms/step - loss: 0.0012\n",
      "Epoch 26/100\n",
      "1952/1952 [==============================] - 7s 3ms/step - loss: 0.0012\n",
      "Epoch 27/100\n",
      "1952/1952 [==============================] - 7s 3ms/step - loss: 0.0012\n",
      "Epoch 28/100\n",
      "1952/1952 [==============================] - 7s 3ms/step - loss: 0.0013\n",
      "Epoch 29/100\n",
      "1952/1952 [==============================] - 7s 3ms/step - loss: 0.0010\n",
      "Epoch 30/100\n",
      "1952/1952 [==============================] - 7s 3ms/step - loss: 0.0011\n",
      "Epoch 31/100\n",
      "1952/1952 [==============================] - 7s 3ms/step - loss: 0.0012\n",
      "Epoch 32/100\n",
      "1952/1952 [==============================] - 7s 3ms/step - loss: 0.0011\n",
      "Epoch 33/100\n",
      "1952/1952 [==============================] - 7s 3ms/step - loss: 0.0011\n",
      "Epoch 34/100\n",
      "1952/1952 [==============================] - 7s 3ms/step - loss: 0.0011\n",
      "Epoch 35/100\n",
      "1952/1952 [==============================] - 7s 3ms/step - loss: 9.2020e-04\n",
      "Epoch 36/100\n",
      "1952/1952 [==============================] - 7s 3ms/step - loss: 8.8448e-04\n",
      "Epoch 37/100\n",
      "1952/1952 [==============================] - 7s 3ms/step - loss: 9.8493e-04\n",
      "Epoch 38/100\n",
      "1952/1952 [==============================] - 7s 3ms/step - loss: 8.5554e-04\n",
      "Epoch 39/100\n",
      "1952/1952 [==============================] - 7s 3ms/step - loss: 9.2238e-04\n",
      "Epoch 40/100\n",
      "1952/1952 [==============================] - 7s 3ms/step - loss: 9.4319e-04\n",
      "Epoch 41/100\n",
      "1952/1952 [==============================] - 7s 3ms/step - loss: 8.9447e-04\n",
      "Epoch 42/100\n",
      "1952/1952 [==============================] - 7s 3ms/step - loss: 8.6491e-04\n",
      "Epoch 43/100\n",
      "1952/1952 [==============================] - 7s 3ms/step - loss: 8.3941e-04\n",
      "Epoch 44/100\n",
      "1952/1952 [==============================] - 7s 3ms/step - loss: 7.9875e-04\n",
      "Epoch 45/100\n",
      "1952/1952 [==============================] - 7s 3ms/step - loss: 8.0062e-04\n",
      "Epoch 46/100\n",
      "1952/1952 [==============================] - 7s 3ms/step - loss: 8.4413e-04\n",
      "Epoch 47/100\n",
      "1952/1952 [==============================] - 7s 3ms/step - loss: 8.6417e-04\n",
      "Epoch 48/100\n",
      "1952/1952 [==============================] - 7s 3ms/step - loss: 8.4361e-04\n",
      "Epoch 49/100\n",
      "1952/1952 [==============================] - 7s 3ms/step - loss: 8.8610e-04\n",
      "Epoch 50/100\n",
      "1952/1952 [==============================] - 7s 3ms/step - loss: 8.0622e-04\n",
      "Epoch 51/100\n",
      "1952/1952 [==============================] - 7s 3ms/step - loss: 8.3828e-04\n",
      "Epoch 52/100\n",
      "1952/1952 [==============================] - 7s 3ms/step - loss: 0.0011\n",
      "Epoch 53/100\n",
      "1952/1952 [==============================] - 7s 3ms/step - loss: 7.8453e-04\n",
      "Epoch 54/100\n",
      "1952/1952 [==============================] - 7s 3ms/step - loss: 7.9199e-04\n",
      "Epoch 55/100\n",
      "1952/1952 [==============================] - 7s 3ms/step - loss: 7.4023e-04\n",
      "Epoch 56/100\n",
      "1952/1952 [==============================] - 7s 3ms/step - loss: 8.5421e-04\n",
      "Epoch 57/100\n",
      "1952/1952 [==============================] - 7s 3ms/step - loss: 7.8132e-04\n",
      "Epoch 58/100\n",
      "1952/1952 [==============================] - 7s 3ms/step - loss: 7.5807e-04\n",
      "Epoch 59/100\n",
      "1952/1952 [==============================] - 7s 3ms/step - loss: 8.1099e-04\n",
      "Epoch 60/100\n",
      "1952/1952 [==============================] - 7s 3ms/step - loss: 7.5551e-04\n",
      "Epoch 61/100\n",
      "1952/1952 [==============================] - 7s 3ms/step - loss: 7.3128e-04\n",
      "Epoch 62/100\n",
      "1952/1952 [==============================] - 7s 3ms/step - loss: 8.3818e-04\n",
      "Epoch 63/100\n",
      "1952/1952 [==============================] - 7s 3ms/step - loss: 7.3510e-04\n",
      "Epoch 64/100\n",
      "1952/1952 [==============================] - 7s 3ms/step - loss: 7.0899e-04\n",
      "Epoch 65/100\n",
      "1952/1952 [==============================] - 7s 3ms/step - loss: 7.0726e-04\n",
      "Epoch 66/100\n",
      "1952/1952 [==============================] - 7s 3ms/step - loss: 7.2216e-04\n",
      "Epoch 67/100\n",
      "1952/1952 [==============================] - 7s 3ms/step - loss: 6.8227e-04\n",
      "Epoch 68/100\n",
      "1952/1952 [==============================] - 7s 3ms/step - loss: 6.3287e-04\n",
      "Epoch 69/100\n",
      "1952/1952 [==============================] - 7s 3ms/step - loss: 8.3702e-04\n",
      "Epoch 70/100\n",
      "1952/1952 [==============================] - 7s 3ms/step - loss: 6.5593e-04\n",
      "Epoch 71/100\n",
      "1952/1952 [==============================] - 7s 3ms/step - loss: 6.6323e-04\n",
      "Epoch 72/100\n",
      "1952/1952 [==============================] - 7s 3ms/step - loss: 6.8362e-04\n",
      "Epoch 73/100\n",
      "1952/1952 [==============================] - 7s 3ms/step - loss: 6.9341e-04\n",
      "Epoch 74/100\n",
      "1952/1952 [==============================] - 7s 4ms/step - loss: 6.7157e-04\n",
      "Epoch 75/100\n",
      "1952/1952 [==============================] - 7s 3ms/step - loss: 6.7087e-04\n",
      "Epoch 76/100\n",
      "1952/1952 [==============================] - 7s 3ms/step - loss: 6.4695e-04\n",
      "Epoch 77/100\n",
      "1952/1952 [==============================] - 7s 3ms/step - loss: 6.8447e-04\n",
      "Epoch 78/100\n",
      "1952/1952 [==============================] - 7s 3ms/step - loss: 6.0286e-04\n",
      "Epoch 79/100\n",
      "1952/1952 [==============================] - 7s 3ms/step - loss: 6.8076e-04\n",
      "Epoch 80/100\n",
      "1952/1952 [==============================] - 7s 3ms/step - loss: 6.7647e-04\n",
      "Epoch 81/100\n",
      "1952/1952 [==============================] - 7s 3ms/step - loss: 6.1702e-04\n",
      "Epoch 82/100\n",
      "1952/1952 [==============================] - 7s 3ms/step - loss: 6.6064e-04\n",
      "Epoch 83/100\n",
      "1952/1952 [==============================] - 7s 3ms/step - loss: 6.6013e-04\n",
      "Epoch 84/100\n",
      "1952/1952 [==============================] - 7s 3ms/step - loss: 7.3528e-04\n",
      "Epoch 85/100\n",
      "1952/1952 [==============================] - 7s 3ms/step - loss: 6.3386e-04\n",
      "Epoch 86/100\n",
      "1952/1952 [==============================] - 7s 3ms/step - loss: 6.2103e-04\n",
      "Epoch 87/100\n",
      "1952/1952 [==============================] - 7s 3ms/step - loss: 6.4493e-04\n",
      "Epoch 88/100\n",
      "1952/1952 [==============================] - 7s 3ms/step - loss: 7.1010e-04\n",
      "Epoch 89/100\n",
      "1952/1952 [==============================] - 7s 3ms/step - loss: 5.8914e-04\n",
      "Epoch 90/100\n",
      "1952/1952 [==============================] - 7s 3ms/step - loss: 5.9765e-04\n",
      "Epoch 91/100\n",
      "1952/1952 [==============================] - 7s 3ms/step - loss: 6.8249e-04\n",
      "Epoch 92/100\n",
      "1952/1952 [==============================] - 7s 3ms/step - loss: 6.5824e-04\n",
      "Epoch 93/100\n",
      "1952/1952 [==============================] - 7s 3ms/step - loss: 6.3672e-04\n",
      "Epoch 94/100\n",
      "1952/1952 [==============================] - 6s 3ms/step - loss: 6.8884e-04\n",
      "Epoch 95/100\n",
      "1952/1952 [==============================] - 6s 3ms/step - loss: 6.8149e-04\n",
      "Epoch 96/100\n",
      "1952/1952 [==============================] - 6s 3ms/step - loss: 6.9464e-04\n",
      "Epoch 97/100\n",
      "1952/1952 [==============================] - 6s 3ms/step - loss: 6.0800e-04\n",
      "Epoch 98/100\n",
      "1952/1952 [==============================] - 7s 3ms/step - loss: 6.0132e-04\n",
      "Epoch 99/100\n",
      "1952/1952 [==============================] - 6s 3ms/step - loss: 7.2752e-04\n",
      "Epoch 100/100\n",
      "1952/1952 [==============================] - 6s 3ms/step - loss: 6.4780e-04\n"
     ]
    },
    {
     "data": {
      "image/png": "[encoded data removed]",
      "text/plain": [
       "<Figure size 432x288 with 1 Axes>"
      ]
     },
     "metadata": {
      "needs_background": "light"
     },
     "output_type": "display_data"
    }
   ],
   "source": [
    "\n",
    "# Importing the training set\n",
    "\n",
    "training_set = dataset_train.iloc[:, 1:2].values\n",
    "\n",
    "# Feature Scaling\n",
    "from sklearn.preprocessing import MinMaxScaler\n",
    "sc = MinMaxScaler(feature_range = (0, 1))\n",
    "training_set_scaled = sc.fit_transform(training_set)\n",
    "\n",
    "# Creating a data structure with 60 timesteps and 1 output\n",
    "X_train = []\n",
    "y_train = []\n",
    "for i in range(60, len(training_set_scaled)):\n",
    "    X_train.append(training_set_scaled[i-60:i, 0])\n",
    "    y_train.append(training_set_scaled[i, 0])\n",
    "X_train, y_train = np.array(X_train), np.array(y_train)\n",
    "\n",
    "# Reshaping\n",
    "X_train = np.reshape(X_train, (X_train.shape[0], X_train.shape[1], 1))\n",
    "\n",
    "\n",
    "\n",
    "# Part 2 - Building the RNN\n",
    "\n",
    "# Importing the Keras libraries and packages\n",
    "from keras.models import Sequential\n",
    "from keras.layers import Dense\n",
    "from keras.layers import LSTM\n",
    "from keras.layers import Dropout\n",
    "\n",
    "# Initialising the RNN\n",
    "regressor = Sequential()\n",
    "\n",
    "# Adding the first LSTM layer and some Dropout regularisation\n",
    "regressor.add(LSTM(units = 50, return_sequences = True, input_shape = (X_train.shape[1], 1)))\n",
    "regressor.add(Dropout(0.2))\n",
    "\n",
    "# Adding a second LSTM layer and some Dropout regularisation\n",
    "regressor.add(LSTM(units = 50, return_sequences = True))\n",
    "regressor.add(Dropout(0.2))\n",
    "\n",
    "# Adding a third LSTM layer and some Dropout regularisation\n",
    "regressor.add(LSTM(units = 50, return_sequences = True))\n",
    "regressor.add(Dropout(0.2))\n",
    "\n",
    "# Adding a fourth LSTM layer and some Dropout regularisation\n",
    "regressor.add(LSTM(units = 50))\n",
    "regressor.add(Dropout(0.2))\n",
    "\n",
    "# Adding the output layer\n",
    "regressor.add(Dense(units = 1))\n",
    "\n",
    "# Compiling the RNN\n",
    "regressor.compile(optimizer = 'adam', loss = 'mean_squared_error')\n",
    "\n",
    "# Fitting the RNN to the Training set\n",
    "regressor.fit(X_train, y_train, epochs = 100, batch_size = 32)\n",
    "\n",
    "\n",
    "\n",
    "# Part 3 - Making the predictions and visualising the results\n",
    "\n",
    "# Getting the real stock price OF test data\n",
    "\n",
    "real_stock_price = dataset_test.iloc[:, 1:2].values\n",
    "\n",
    "# Getting the predicted stock price \n",
    "dataset_total = pd.concat((dataset_train['Open'], dataset_test['Open']), axis = 0)\n",
    "inputs = dataset_total[len(dataset_total) - len(dataset_test) - 60:].values\n",
    "inputs = inputs.reshape(-1,1)\n",
    "inputs = sc.transform(inputs)\n",
    "X_test = []\n",
    "for i in range(60,len(inputs)):\n",
    "    X_test.append(inputs[i-60:i, 0])\n",
    "X_test = np.array(X_test)\n",
    "X_test = np.reshape(X_test, (X_test.shape[0], X_test.shape[1], 1))\n",
    "predicted_stock_price = regressor.predict(X_test)\n",
    "predicted_stock_price = sc.inverse_transform(predicted_stock_price)\n",
    "\n",
    "# Visualising the results\n",
    "plt.plot(real_stock_price, color = 'red', label = 'Real Apple Stock Price')\n",
    "plt.plot(predicted_stock_price, color = 'blue', label = 'Predicted Apple Stock Price')\n",
    "plt.title('Apple Stock Price Prediction')\n",
    "plt.xlabel('Time')\n",
    "plt.ylabel('Apple Stock Price')\n",
    "plt.legend()\n",
    "plt.show()"
   ]
  },
  {
   "cell_type": "code",
   "execution_count": 57,
   "metadata": {},
   "outputs": [
    {
     "data": {
      "image/png": "[encoded data removed]",
      "text/plain": [
       "<Figure size 1152x576 with 1 Axes>"
      ]
     },
     "metadata": {
      "needs_background": "light"
     },
     "output_type": "display_data"
    }
   ],
   "source": [
    "plt.figure(figsize=(16,8))\n",
    "plt.plot(real_stock_price, color = 'red', label = 'Real Apple Stock Price')\n",
    "plt.plot(predicted_stock_price, color = 'blue', label = 'Predicted Apple Stock Price')\n",
    "plt.title('Apple Stock Price Prediction')\n",
    "plt.xlabel('Time')\n",
    "plt.ylabel('Apple Stock Price')\n",
    "plt.legend()\n",
    "plt.show()"
   ]
  },
  {
   "cell_type": "code",
   "execution_count": 58,
   "metadata": {},
   "outputs": [],
   "source": [
    "from math import sqrt\n",
    "mse = mean_squared_error(real_stock_price, predicted_stock_price)\n",
    "rmse = sqrt(mse)"
   ]
  },
  {
   "cell_type": "code",
   "execution_count": 59,
   "metadata": {},
   "outputs": [
    {
     "data": {
      "text/plain": [
       "11.562829489998862"
      ]
     },
     "execution_count": 59,
     "metadata": {},
     "output_type": "execute_result"
    }
   ],
   "source": [
    "rmse"
   ]
  },
  {
   "cell_type": "code",
   "execution_count": 60,
   "metadata": {},
   "outputs": [
    {
     "data": {
      "text/plain": [
       "133.69902581478735"
      ]
     },
     "execution_count": 60,
     "metadata": {},
     "output_type": "execute_result"
    }
   ],
   "source": [
    "mse"
   ]
  },
  {
   "cell_type": "markdown",
   "metadata": {},
   "source": [
    "# Lstm"
   ]
  },
  {
   "cell_type": "code",
   "execution_count": 61,
   "metadata": {},
   "outputs": [],
   "source": [
    "from sklearn.preprocessing import MinMaxScaler\n",
    "from keras.models import Sequential\n",
    "from keras.layers import Dense, Dropout, LSTM"
   ]
  },
  {
   "cell_type": "code",
   "execution_count": 62,
   "metadata": {},
   "outputs": [],
   "source": [
    "#get the data\n",
    "df=web.DataReader('AAPL',data_source='yahoo',start='2012-01-01',end='2020-5-02')\n",
    "dataset_hol=pd.DataFrame(data=df)\n",
    "dataset_hol\n",
    "dataset_hol=dataset_hol.reset_index()\n"
   ]
  },
  {
   "cell_type": "code",
   "execution_count": 63,
   "metadata": {},
   "outputs": [
    {
     "data": {
      "text/html": [
       "<div>\n",
       "<style scoped>\n",
       "    .dataframe tbody tr th:only-of-type {\n",
       "        vertical-align: middle;\n",
       "    }\n",
       "\n",
       "    .dataframe tbody tr th {\n",
       "        vertical-align: top;\n",
       "    }\n",
       "\n",
       "    .dataframe thead th {\n",
       "        text-align: right;\n",
       "    }\n",
       "</style>\n",
       "<table border=\"1\" class=\"dataframe\">\n",
       "  <thead>\n",
       "    <tr style=\"text-align: right;\">\n",
       "      <th></th>\n",
       "      <th>Date</th>\n",
       "      <th>High</th>\n",
       "      <th>Low</th>\n",
       "      <th>Open</th>\n",
       "      <th>Close</th>\n",
       "      <th>Volume</th>\n",
       "      <th>Adj Close</th>\n",
       "    </tr>\n",
       "  </thead>\n",
       "  <tbody>\n",
       "    <tr>\n",
       "      <th>0</th>\n",
       "      <td>2012-01-03</td>\n",
       "      <td>58.928570</td>\n",
       "      <td>58.428570</td>\n",
       "      <td>58.485714</td>\n",
       "      <td>58.747143</td>\n",
       "      <td>75555200.0</td>\n",
       "      <td>50.994907</td>\n",
       "    </tr>\n",
       "    <tr>\n",
       "      <th>1</th>\n",
       "      <td>2012-01-04</td>\n",
       "      <td>59.240002</td>\n",
       "      <td>58.468571</td>\n",
       "      <td>58.571430</td>\n",
       "      <td>59.062859</td>\n",
       "      <td>65005500.0</td>\n",
       "      <td>51.268970</td>\n",
       "    </tr>\n",
       "    <tr>\n",
       "      <th>2</th>\n",
       "      <td>2012-01-05</td>\n",
       "      <td>59.792858</td>\n",
       "      <td>58.952858</td>\n",
       "      <td>59.278572</td>\n",
       "      <td>59.718571</td>\n",
       "      <td>67817400.0</td>\n",
       "      <td>51.838169</td>\n",
       "    </tr>\n",
       "    <tr>\n",
       "      <th>3</th>\n",
       "      <td>2012-01-06</td>\n",
       "      <td>60.392857</td>\n",
       "      <td>59.888573</td>\n",
       "      <td>59.967144</td>\n",
       "      <td>60.342857</td>\n",
       "      <td>79573200.0</td>\n",
       "      <td>52.380054</td>\n",
       "    </tr>\n",
       "    <tr>\n",
       "      <th>4</th>\n",
       "      <td>2012-01-09</td>\n",
       "      <td>61.107143</td>\n",
       "      <td>60.192856</td>\n",
       "      <td>60.785713</td>\n",
       "      <td>60.247143</td>\n",
       "      <td>98506100.0</td>\n",
       "      <td>52.296970</td>\n",
       "    </tr>\n",
       "    <tr>\n",
       "      <th>...</th>\n",
       "      <td>...</td>\n",
       "      <td>...</td>\n",
       "      <td>...</td>\n",
       "      <td>...</td>\n",
       "      <td>...</td>\n",
       "      <td>...</td>\n",
       "      <td>...</td>\n",
       "    </tr>\n",
       "    <tr>\n",
       "      <th>2091</th>\n",
       "      <td>2020-04-27</td>\n",
       "      <td>284.540009</td>\n",
       "      <td>279.950012</td>\n",
       "      <td>281.799988</td>\n",
       "      <td>283.170013</td>\n",
       "      <td>29271900.0</td>\n",
       "      <td>283.170013</td>\n",
       "    </tr>\n",
       "    <tr>\n",
       "      <th>2092</th>\n",
       "      <td>2020-04-28</td>\n",
       "      <td>285.829987</td>\n",
       "      <td>278.200012</td>\n",
       "      <td>285.079987</td>\n",
       "      <td>278.579987</td>\n",
       "      <td>28001200.0</td>\n",
       "      <td>278.579987</td>\n",
       "    </tr>\n",
       "    <tr>\n",
       "      <th>2093</th>\n",
       "      <td>2020-04-29</td>\n",
       "      <td>289.670013</td>\n",
       "      <td>283.890015</td>\n",
       "      <td>284.730011</td>\n",
       "      <td>287.730011</td>\n",
       "      <td>34320200.0</td>\n",
       "      <td>287.730011</td>\n",
       "    </tr>\n",
       "    <tr>\n",
       "      <th>2094</th>\n",
       "      <td>2020-04-30</td>\n",
       "      <td>294.529999</td>\n",
       "      <td>288.350006</td>\n",
       "      <td>289.959991</td>\n",
       "      <td>293.799988</td>\n",
       "      <td>45766000.0</td>\n",
       "      <td>293.799988</td>\n",
       "    </tr>\n",
       "    <tr>\n",
       "      <th>2095</th>\n",
       "      <td>2020-05-01</td>\n",
       "      <td>299.000000</td>\n",
       "      <td>285.850006</td>\n",
       "      <td>286.250000</td>\n",
       "      <td>289.070007</td>\n",
       "      <td>60095200.0</td>\n",
       "      <td>289.070007</td>\n",
       "    </tr>\n",
       "  </tbody>\n",
       "</table>\n",
       "<p>2096 rows × 7 columns</p>\n",
       "</div>"
      ],
      "text/plain": [
       "           Date        High         Low        Open       Close      Volume  \\\n",
       "0    2012-01-03   58.928570   58.428570   58.485714   58.747143  75555200.0   \n",
       "1    2012-01-04   59.240002   58.468571   58.571430   59.062859  65005500.0   \n",
       "2    2012-01-05   59.792858   58.952858   59.278572   59.718571  67817400.0   \n",
       "3    2012-01-06   60.392857   59.888573   59.967144   60.342857  79573200.0   \n",
       "4    2012-01-09   61.107143   60.192856   60.785713   60.247143  98506100.0   \n",
       "...         ...         ...         ...         ...         ...         ...   \n",
       "2091 2020-04-27  284.540009  279.950012  281.799988  283.170013  29271900.0   \n",
       "2092 2020-04-28  285.829987  278.200012  285.079987  278.579987  28001200.0   \n",
       "2093 2020-04-29  289.670013  283.890015  284.730011  287.730011  34320200.0   \n",
       "2094 2020-04-30  294.529999  288.350006  289.959991  293.799988  45766000.0   \n",
       "2095 2020-05-01  299.000000  285.850006  286.250000  289.070007  60095200.0   \n",
       "\n",
       "       Adj Close  \n",
       "0      50.994907  \n",
       "1      51.268970  \n",
       "2      51.838169  \n",
       "3      52.380054  \n",
       "4      52.296970  \n",
       "...          ...  \n",
       "2091  283.170013  \n",
       "2092  278.579987  \n",
       "2093  287.730011  \n",
       "2094  293.799988  \n",
       "2095  289.070007  \n",
       "\n",
       "[2096 rows x 7 columns]"
      ]
     },
     "execution_count": 63,
     "metadata": {},
     "output_type": "execute_result"
    }
   ],
   "source": [
    "dataset_hol"
   ]
  },
  {
   "cell_type": "code",
   "execution_count": 64,
   "metadata": {},
   "outputs": [
    {
     "name": "stdout",
     "output_type": "stream",
     "text": [
      "Epoch 1/1\n",
      " - 58s - loss: 0.0014\n"
     ]
    }
   ],
   "source": [
    "#creating dataframe\n",
    "data = dataset_hol.sort_index(ascending=True, axis=0)\n",
    "new_data = pd.DataFrame(index=range(0,len(df)),columns=['Date', 'Close'])\n",
    "for i in range(0,len(data)):\n",
    "    new_data['Date'][i] = data['Date'][i]\n",
    "    new_data['Close'][i] = data['Close'][i]\n",
    "\n",
    "#setting index\n",
    "new_data.index = new_data.Date\n",
    "new_data.drop('Date', axis=1, inplace=True)\n",
    "\n",
    "#creating train and test sets\n",
    "dataset = new_data.values\n",
    "\n",
    "train = new_data[:2013]\n",
    "valid = new_data[2013:]\n",
    "\n",
    "#converting dataset into x_train and y_train\n",
    "scaler = MinMaxScaler(feature_range=(0, 1))\n",
    "scaled_data = scaler.fit_transform(dataset)\n",
    "\n",
    "x_train, y_train = [], []\n",
    "for i in range(60,len(train)):\n",
    "    x_train.append(scaled_data[i-60:i,0])\n",
    "    y_train.append(scaled_data[i,0])\n",
    "x_train, y_train = np.array(x_train), np.array(y_train)\n",
    "\n",
    "x_train = np.reshape(x_train, (x_train.shape[0],x_train.shape[1],1))\n",
    "\n",
    "# create and fit the LSTM network\n",
    "model = Sequential()\n",
    "model.add(LSTM(units=50, return_sequences=True, input_shape=(x_train.shape[1],1)))\n",
    "model.add(LSTM(units=50))\n",
    "model.add(Dense(1))\n",
    "\n",
    "model.compile(loss='mean_squared_error', optimizer='adam')\n",
    "model.fit(x_train, y_train, epochs=1, batch_size=1, verbose=2)\n",
    "\n",
    "#predicting 246 values, using past 60 from the train data\n",
    "inputs = new_data[len(new_data) - len(valid) - 60:].values\n",
    "inputs = inputs.reshape(-1,1)\n",
    "inputs  = scaler.transform(inputs)\n",
    "\n",
    "X_test = []\n",
    "for i in range(60,inputs.shape[0]):\n",
    "    X_test.append(inputs[i-60:i,0])\n",
    "X_test = np.array(X_test)\n",
    "\n",
    "X_test = np.reshape(X_test, (X_test.shape[0],X_test.shape[1],1))\n",
    "closing_price = model.predict(X_test)\n",
    "closing_price = scaler.inverse_transform(closing_price)"
   ]
  },
  {
   "cell_type": "code",
   "execution_count": 65,
   "metadata": {},
   "outputs": [
    {
     "name": "stderr",
     "output_type": "stream",
     "text": [
      "<ipython-input-65-9ac5c44f6cf6>:5: SettingWithCopyWarning: \n",
      "A value is trying to be set on a copy of a slice from a DataFrame.\n",
      "Try using .loc[row_indexer,col_indexer] = value instead\n",
      "\n",
      "See the caveats in the documentation: https://pandas.pydata.org/pandas-docs/stable/user_guide/indexing.html#returning-a-view-versus-a-copy\n",
      "  valid['Predictions'] = closing_price\n"
     ]
    },
    {
     "data": {
      "text/plain": [
       "[<matplotlib.lines.Line2D at 0x22c00851e80>,\n",
       " <matplotlib.lines.Line2D at 0x22c00858e20>]"
      ]
     },
     "execution_count": 65,
     "metadata": {},
     "output_type": "execute_result"
    },
    {
     "data": {
      "image/png": "[encoded data removed]",
      "text/plain": [
       "<Figure size 1152x576 with 1 Axes>"
      ]
     },
     "metadata": {
      "needs_background": "light"
     },
     "output_type": "display_data"
    }
   ],
   "source": [
    "#for plotting\n",
    "plt.figure(figsize=(16,8))\n",
    "train = new_data[:2013]\n",
    "valid = new_data[2013:]\n",
    "valid['Predictions'] = closing_price\n",
    "plt.plot(train['Close'])\n",
    "plt.plot(valid[['Close','Predictions']])"
   ]
  },
  {
   "cell_type": "code",
   "execution_count": 66,
   "metadata": {},
   "outputs": [
    {
     "data": {
      "image/png": "[encoded data removed]",
      "text/plain": [
       "<Figure size 1152x576 with 1 Axes>"
      ]
     },
     "metadata": {
      "needs_background": "light"
     },
     "output_type": "display_data"
    }
   ],
   "source": [
    "plt.figure(figsize=(16,8))\n",
    "plt.title(\"Close Price history\")\n",
    "#plt.plot(train['Close'])\n",
    "plt.plot(valid[['Close','Predictions']])\n",
    "plt.xlabel('Date',fontsize=18)\n",
    "plt.ylabel('Close Price USD($)',fontsize=18)\n",
    "plt.show()"
   ]
  },
  {
   "cell_type": "code",
   "execution_count": 71,
   "metadata": {},
   "outputs": [],
   "source": [
    "from math import sqrt\n",
    "mse = mean_squared_error(valid['Close'],valid['Predictions'])\n",
    "rmse = sqrt(mse)"
   ]
  },
  {
   "cell_type": "code",
   "execution_count": 72,
   "metadata": {},
   "outputs": [
    {
     "data": {
      "text/plain": [
       "18.268453125221587"
      ]
     },
     "execution_count": 72,
     "metadata": {},
     "output_type": "execute_result"
    }
   ],
   "source": [
    "rmse"
   ]
  },
  {
   "cell_type": "code",
   "execution_count": 73,
   "metadata": {},
   "outputs": [
    {
     "data": {
      "text/plain": [
       "333.73637958841834"
      ]
     },
     "execution_count": 73,
     "metadata": {},
     "output_type": "execute_result"
    }
   ],
   "source": [
    "mse"
   ]
  },
  {
   "cell_type": "markdown",
   "metadata": {},
   "source": [
    "# Basic Arima"
   ]
  },
  {
   "cell_type": "code",
   "execution_count": 74,
   "metadata": {},
   "outputs": [
    {
     "name": "stdout",
     "output_type": "stream",
     "text": [
      "Performing stepwise search to minimize aic\n",
      "Fit ARIMA: (1, 1, 1)x(0, 1, 1, 12) (constant=True); AIC=8771.901, BIC=8799.906, Time=11.217 seconds\n",
      "Fit ARIMA: (0, 1, 0)x(0, 1, 0, 12) (constant=True); AIC=10053.180, BIC=10064.381, Time=0.111 seconds\n",
      "Fit ARIMA: (1, 1, 0)x(1, 1, 0, 12) (constant=True); AIC=9529.873, BIC=9552.276, Time=1.795 seconds\n",
      "Fit ARIMA: (0, 1, 1)x(0, 1, 1, 12) (constant=True); AIC=8771.757, BIC=8794.161, Time=4.192 seconds\n",
      "Near non-invertible roots for order (0, 1, 1)(0, 1, 1, 12); setting score to inf (at least one inverse root too close to the border of the unit circle: 0.999)\n",
      "Fit ARIMA: (0, 1, 0)x(0, 1, 0, 12) (constant=False); AIC=10051.212, BIC=10056.813, Time=0.078 seconds\n",
      "Fit ARIMA: (1, 1, 1)x(0, 1, 0, 12) (constant=True); AIC=10054.273, BIC=10076.677, Time=1.315 seconds\n",
      "Fit ARIMA: (1, 1, 1)x(1, 1, 1, 12) (constant=True); AIC=8774.088, BIC=8807.693, Time=13.838 seconds\n",
      "Near non-invertible roots for order (1, 1, 1)(1, 1, 1, 12); setting score to inf (at least one inverse root too close to the border of the unit circle: 0.999)\n",
      "Fit ARIMA: (1, 1, 1)x(0, 1, 2, 12) (constant=True); AIC=8773.333, BIC=8806.939, Time=34.025 seconds\n",
      "Near non-invertible roots for order (1, 1, 1)(0, 1, 2, 12); setting score to inf (at least one inverse root too close to the border of the unit circle: 0.999)\n",
      "Fit ARIMA: (1, 1, 1)x(1, 1, 0, 12) (constant=True); AIC=9474.853, BIC=9502.858, Time=10.680 seconds\n",
      "Near non-invertible roots for order (1, 1, 1)(1, 1, 0, 12); setting score to inf (at least one inverse root too close to the border of the unit circle: 0.999)\n",
      "Fit ARIMA: (1, 1, 1)x(1, 1, 2, 12) (constant=True); AIC=8775.701, BIC=8814.908, Time=30.891 seconds\n",
      "Near non-invertible roots for order (1, 1, 1)(1, 1, 2, 12); setting score to inf (at least one inverse root too close to the border of the unit circle: 0.999)\n",
      "Fit ARIMA: (1, 1, 0)x(0, 1, 1, 12) (constant=True); AIC=8771.787, BIC=8794.191, Time=9.070 seconds\n",
      "Near non-invertible roots for order (1, 1, 0)(0, 1, 1, 12); setting score to inf (at least one inverse root too close to the border of the unit circle: 0.999)\n",
      "Fit ARIMA: (2, 1, 1)x(0, 1, 1, 12) (constant=True); AIC=8769.862, BIC=8803.467, Time=10.042 seconds\n",
      "Near non-invertible roots for order (2, 1, 1)(0, 1, 1, 12); setting score to inf (at least one inverse root too close to the border of the unit circle: 0.999)\n",
      "Fit ARIMA: (1, 1, 2)x(0, 1, 1, 12) (constant=True); AIC=8770.307, BIC=8803.913, Time=12.133 seconds\n",
      "Near non-invertible roots for order (1, 1, 2)(0, 1, 1, 12); setting score to inf (at least one inverse root too close to the border of the unit circle: 0.999)\n",
      "Fit ARIMA: (0, 1, 0)x(0, 1, 1, 12) (constant=True); AIC=8770.042, BIC=8786.844, Time=3.078 seconds\n",
      "Near non-invertible roots for order (0, 1, 0)(0, 1, 1, 12); setting score to inf (at least one inverse root too close to the border of the unit circle: 0.999)\n",
      "Fit ARIMA: (0, 1, 2)x(0, 1, 1, 12) (constant=True); AIC=8768.665, BIC=8796.669, Time=5.707 seconds\n",
      "Near non-invertible roots for order (0, 1, 2)(0, 1, 1, 12); setting score to inf (at least one inverse root too close to the border of the unit circle: 0.999)\n",
      "Fit ARIMA: (2, 1, 0)x(0, 1, 1, 12) (constant=True); AIC=8768.194, BIC=8796.199, Time=6.104 seconds\n",
      "Near non-invertible roots for order (2, 1, 0)(0, 1, 1, 12); setting score to inf (at least one inverse root too close to the border of the unit circle: 0.999)\n",
      "Fit ARIMA: (2, 1, 2)x(0, 1, 1, 12) (constant=True); AIC=8769.930, BIC=8809.137, Time=15.961 seconds\n",
      "Near non-invertible roots for order (2, 1, 2)(0, 1, 1, 12); setting score to inf (at least one inverse root too close to the border of the unit circle: 1.000)\n",
      "Total fit time: 170.248 seconds\n"
     ]
    }
   ],
   "source": [
    "model = auto_arima(train, start_p=1, start_q=1,max_p=3, max_q=3, m=12,start_P=0, seasonal=True,d=1, D=1, trace=True,error_action='ignore',suppress_warnings=True)\n",
    "model.fit(train)\n",
    "\n",
    "forecast = model.predict(n_periods=83)\n",
    "forecast = pd.DataFrame(forecast,index = valid.index,columns=['Prediction'])"
   ]
  },
  {
   "cell_type": "code",
   "execution_count": 83,
   "metadata": {},
   "outputs": [
    {
     "data": {
      "text/plain": [
       "40.569405175072475"
      ]
     },
     "execution_count": 83,
     "metadata": {},
     "output_type": "execute_result"
    }
   ],
   "source": [
    "rms=np.sqrt(np.mean(np.power((np.array(valid['Close'])-np.array(forecast['Prediction'])),2)))\n",
    "rms"
   ]
  },
  {
   "cell_type": "code",
   "execution_count": 80,
   "metadata": {},
   "outputs": [
    {
     "data": {
      "text/plain": [
       "40.569405175072475"
      ]
     },
     "execution_count": 80,
     "metadata": {},
     "output_type": "execute_result"
    }
   ],
   "source": [
    "rmse"
   ]
  },
  {
   "cell_type": "markdown",
   "metadata": {},
   "source": [
    "# Random Forest"
   ]
  },
  {
   "cell_type": "code",
   "execution_count": 87,
   "metadata": {},
   "outputs": [],
   "source": [
    "sc=MinMaxScaler(feature_range= (0,1))\n",
    "training_set_scaled=sc.fit_transform(dataset_train)\n",
    "dataset_train\n",
    "X_train=[]\n",
    "y_train=[]\n",
    "for i in range(60,training_set_scaled.shape[0]):\n",
    "    X_train.append(training_set_scaled[i-60:i])\n",
    "    y_train.append(training_set_scaled[i,0])\n",
    "        \n",
    "X_train,y_train=np.array(X_train), np.array(y_train) \n",
    "\n",
    "nsamples, nx, ny = X_train.shape\n",
    "X_train = X_train.reshape((nsamples,nx*ny))\n",
    "inputs = sc.transform(df)\n",
    "inputs.shape\n",
    "X_test = []\n",
    "y_test = []\n",
    "\n",
    "for i in range (60, inputs.shape[0]):\n",
    "    X_test.append(inputs[i-60:i])\n",
    "    y_test.append(inputs[i,0])\n",
    "X_test, y_test = np.array(X_test), np.array(y_test)\n",
    "X_test.shape, y_test.shape\n",
    "\n",
    "nsamples, nx, ny = X_test.shape\n",
    "X_test = X_test.reshape((nsamples,nx*ny))"
   ]
  },
  {
   "cell_type": "code",
   "execution_count": 88,
   "metadata": {},
   "outputs": [
    {
     "data": {
      "text/plain": [
       "RandomForestRegressor(bootstrap=True, ccp_alpha=0.0, criterion='mse',\n",
       "                      max_depth=None, max_features='auto', max_leaf_nodes=None,\n",
       "                      max_samples=None, min_impurity_decrease=0.0,\n",
       "                      min_impurity_split=None, min_samples_leaf=1,\n",
       "                      min_samples_split=2, min_weight_fraction_leaf=0.0,\n",
       "                      n_estimators=100, n_jobs=None, oob_score=False,\n",
       "                      random_state=None, verbose=0, warm_start=False)"
      ]
     },
     "execution_count": 88,
     "metadata": {},
     "output_type": "execute_result"
    }
   ],
   "source": [
    "from sklearn.ensemble import RandomForestRegressor\n",
    "#Random Forest\n",
    "models_perfs = [] #list of dictionaries of models' performances\n",
    "\n",
    "# basic RandonForest \n",
    "clf = RandomForestRegressor() # default params.\n",
    "clf.fit(X_train, y_train)"
   ]
  },
  {
   "cell_type": "code",
   "execution_count": 89,
   "metadata": {},
   "outputs": [],
   "source": [
    "clf_predict = clf.predict(X_test)\n",
    "sc.scale_\n",
    "scale=1/4.35062293e-03\n",
    "scale\n",
    "clf_predict = clf_predict*scale\n",
    "y_test=y_test*scale"
   ]
  },
  {
   "cell_type": "code",
   "execution_count": 90,
   "metadata": {},
   "outputs": [
    {
     "data": {
      "image/png": "[encoded data removed]",
      "text/plain": [
       "<Figure size 1008x360 with 1 Axes>"
      ]
     },
     "metadata": {
      "needs_background": "light"
     },
     "output_type": "display_data"
    }
   ],
   "source": [
    "#visualising the results\n",
    "plt.figure(figsize= (14,5))\n",
    "plt.plot(y_test, color ='red', label = 'Real Apple Stock Price')\n",
    "plt.plot(clf_predict, color ='blue', label = 'Predicted Apple Stock Price')\n",
    "plt.title('Apple Stock Price Prediction')\n",
    "plt.xlabel('Time')\n",
    "plt.ylabel('Apple Stock Price')\n",
    "plt.legend()\n",
    "plt.show()"
   ]
  },
  {
   "cell_type": "code",
   "execution_count": 91,
   "metadata": {},
   "outputs": [],
   "source": [
    "from sklearn.metrics import mean_squared_error, r2_score"
   ]
  },
  {
   "cell_type": "code",
   "execution_count": 92,
   "metadata": {},
   "outputs": [
    {
     "name": "stdout",
     "output_type": "stream",
     "text": [
      "0.9938993857456283\n"
     ]
    }
   ],
   "source": [
    "print(r2_score(y_test, clf_predict))#best value=1"
   ]
  },
  {
   "cell_type": "code",
   "execution_count": 93,
   "metadata": {},
   "outputs": [],
   "source": [
    "from math import sqrt\n",
    "mse = mean_squared_error(y_test, clf_predict)\n",
    "rmse = sqrt(mse)"
   ]
  },
  {
   "cell_type": "code",
   "execution_count": 94,
   "metadata": {},
   "outputs": [
    {
     "data": {
      "text/plain": [
       "4.521783123567915"
      ]
     },
     "execution_count": 94,
     "metadata": {},
     "output_type": "execute_result"
    }
   ],
   "source": [
    "rmse"
   ]
  },
  {
   "cell_type": "code",
   "execution_count": 95,
   "metadata": {},
   "outputs": [
    {
     "data": {
      "text/plain": [
       "20.44652261658361"
      ]
     },
     "execution_count": 95,
     "metadata": {},
     "output_type": "execute_result"
    }
   ],
   "source": [
    "mse"
   ]
  },
  {
   "cell_type": "code",
   "execution_count": 97,
   "metadata": {},
   "outputs": [],
   "source": [
    "def measureParams(model, paramsDict):\n",
    "    \n",
    "    \"\"\"\n",
    "    Inputs: \n",
    "        Model - SKlearn model object\n",
    "        paramsDict - Dictionary of input parameters\n",
    "        \n",
    "    Output:\n",
    "        Nested Dictionary of results\n",
    "    \"\"\"\n",
    "    \n",
    "    results = []\n",
    "    metric_list = [\"MSE\",\"MAE\",\"R2\",\"Time\"]\n",
    "    Ys_init = {}\n",
    "    for i in metric_list:\n",
    "        Ys_init[i] = []\n",
    "    \n",
    "    for k in tqdm(paramsDict.keys()):\n",
    "        Xs = []\n",
    "        Ys = copy.deepcopy(Ys_init)\n",
    "        for v in paramsDict[k]:\n",
    "            Xs.append(v)\n",
    "            reg = model()\n",
    "            params = {k:v}\n",
    "            reg.set_params(**params)\n",
    "            start_time = time.time() # Start timer\n",
    "            reg.fit(X_train, y_train)\n",
    "            delta = time.time() - start_time # Training time\n",
    "            preds = reg.predict(X_test)\n",
    "            mse,mae,r2 = modelEvaluation(y_test,preds)\n",
    "            Ys['MSE'].append(mse)\n",
    "            Ys['MAE'].append(mae)\n",
    "            Ys['R2'].append(r2)\n",
    "            Ys['Time'].append(delta)\n",
    "        result = {\n",
    "            \"title\":f\"{k}_plot\",\n",
    "            \"Xs\":Xs,\n",
    "            \"Ys\":Ys\n",
    "        }\n",
    "        results.append(result)\n",
    "    return results\n",
    "    "
   ]
  },
  {
   "cell_type": "code",
   "execution_count": 100,
   "metadata": {},
   "outputs": [
    {
     "data": {
      "application/javascript": [
       "\n",
       "        if (window._pyforest_update_imports_cell) { window._pyforest_update_imports_cell('import tqdm'); }\n",
       "    "
      ],
      "text/plain": [
       "<IPython.core.display.Javascript object>"
      ]
     },
     "metadata": {},
     "output_type": "display_data"
    },
    {
     "ename": "TypeError",
     "evalue": "'module' object is not callable",
     "output_type": "error",
     "traceback": [
      "\u001b[1;31m---------------------------------------------------------------------------\u001b[0m",
      "\u001b[1;31mTypeError\u001b[0m                                 Traceback (most recent call last)",
      "\u001b[1;32m<ipython-input-100-6db191cc9a8a>\u001b[0m in \u001b[0;36m<module>\u001b[1;34m\u001b[0m\n\u001b[0;32m      2\u001b[0m \u001b[0mmlp\u001b[0m\u001b[1;33m.\u001b[0m\u001b[0mfit\u001b[0m\u001b[1;33m(\u001b[0m\u001b[0mX_train\u001b[0m\u001b[1;33m,\u001b[0m \u001b[0my_train\u001b[0m\u001b[1;33m)\u001b[0m\u001b[1;33m\u001b[0m\u001b[1;33m\u001b[0m\u001b[0m\n\u001b[0;32m      3\u001b[0m \u001b[1;33m\u001b[0m\u001b[0m\n\u001b[1;32m----> 4\u001b[1;33m results = measureParams(\n\u001b[0m\u001b[0;32m      5\u001b[0m     \u001b[0mRandomForestRegressor\u001b[0m\u001b[1;33m,\u001b[0m \u001b[1;31m# sklean model object without initialising i.e: without ()\u001b[0m\u001b[1;33m\u001b[0m\u001b[1;33m\u001b[0m\u001b[0m\n\u001b[0;32m      6\u001b[0m \u001b[1;33m\u001b[0m\u001b[0m\n",
      "\u001b[1;32m<ipython-input-97-29b4cbe102cb>\u001b[0m in \u001b[0;36mmeasureParams\u001b[1;34m(model, paramsDict)\u001b[0m\n\u001b[0;32m     16\u001b[0m         \u001b[0mYs_init\u001b[0m\u001b[1;33m[\u001b[0m\u001b[0mi\u001b[0m\u001b[1;33m]\u001b[0m \u001b[1;33m=\u001b[0m \u001b[1;33m[\u001b[0m\u001b[1;33m]\u001b[0m\u001b[1;33m\u001b[0m\u001b[1;33m\u001b[0m\u001b[0m\n\u001b[0;32m     17\u001b[0m \u001b[1;33m\u001b[0m\u001b[0m\n\u001b[1;32m---> 18\u001b[1;33m     \u001b[1;32mfor\u001b[0m \u001b[0mk\u001b[0m \u001b[1;32min\u001b[0m \u001b[0mtqdm\u001b[0m\u001b[1;33m(\u001b[0m\u001b[0mparamsDict\u001b[0m\u001b[1;33m.\u001b[0m\u001b[0mkeys\u001b[0m\u001b[1;33m(\u001b[0m\u001b[1;33m)\u001b[0m\u001b[1;33m)\u001b[0m\u001b[1;33m:\u001b[0m\u001b[1;33m\u001b[0m\u001b[1;33m\u001b[0m\u001b[0m\n\u001b[0m\u001b[0;32m     19\u001b[0m         \u001b[0mXs\u001b[0m \u001b[1;33m=\u001b[0m \u001b[1;33m[\u001b[0m\u001b[1;33m]\u001b[0m\u001b[1;33m\u001b[0m\u001b[1;33m\u001b[0m\u001b[0m\n\u001b[0;32m     20\u001b[0m         \u001b[0mYs\u001b[0m \u001b[1;33m=\u001b[0m \u001b[0mcopy\u001b[0m\u001b[1;33m.\u001b[0m\u001b[0mdeepcopy\u001b[0m\u001b[1;33m(\u001b[0m\u001b[0mYs_init\u001b[0m\u001b[1;33m)\u001b[0m\u001b[1;33m\u001b[0m\u001b[1;33m\u001b[0m\u001b[0m\n",
      "\u001b[1;32mc:\\users\\ritin jaiswal\\appdata\\local\\programs\\python\\python38\\lib\\site-packages\\pyforest\\_importable.py\u001b[0m in \u001b[0;36m__call__\u001b[1;34m(self, *args, **kwargs)\u001b[0m\n\u001b[0;32m     74\u001b[0m     \u001b[1;32mdef\u001b[0m \u001b[0m__call__\u001b[0m\u001b[1;33m(\u001b[0m\u001b[0mself\u001b[0m\u001b[1;33m,\u001b[0m \u001b[1;33m*\u001b[0m\u001b[0margs\u001b[0m\u001b[1;33m,\u001b[0m \u001b[1;33m**\u001b[0m\u001b[0mkwargs\u001b[0m\u001b[1;33m)\u001b[0m\u001b[1;33m:\u001b[0m\u001b[1;33m\u001b[0m\u001b[1;33m\u001b[0m\u001b[0m\n\u001b[0;32m     75\u001b[0m         \u001b[0mself\u001b[0m\u001b[1;33m.\u001b[0m\u001b[0m__maybe_import__\u001b[0m\u001b[1;33m(\u001b[0m\u001b[1;33m)\u001b[0m\u001b[1;33m\u001b[0m\u001b[1;33m\u001b[0m\u001b[0m\n\u001b[1;32m---> 76\u001b[1;33m         \u001b[1;32mreturn\u001b[0m \u001b[0meval\u001b[0m\u001b[1;33m(\u001b[0m\u001b[0mself\u001b[0m\u001b[1;33m.\u001b[0m\u001b[0m__imported_name__\u001b[0m\u001b[1;33m)\u001b[0m\u001b[1;33m(\u001b[0m\u001b[1;33m*\u001b[0m\u001b[0margs\u001b[0m\u001b[1;33m,\u001b[0m \u001b[1;33m**\u001b[0m\u001b[0mkwargs\u001b[0m\u001b[1;33m)\u001b[0m\u001b[1;33m\u001b[0m\u001b[1;33m\u001b[0m\u001b[0m\n\u001b[0m\u001b[0;32m     77\u001b[0m \u001b[1;33m\u001b[0m\u001b[0m\n\u001b[0;32m     78\u001b[0m     \u001b[1;32mdef\u001b[0m \u001b[0m__repr__\u001b[0m\u001b[1;33m(\u001b[0m\u001b[0mself\u001b[0m\u001b[1;33m,\u001b[0m \u001b[1;33m*\u001b[0m\u001b[0margs\u001b[0m\u001b[1;33m,\u001b[0m \u001b[1;33m**\u001b[0m\u001b[0mkwargs\u001b[0m\u001b[1;33m)\u001b[0m\u001b[1;33m:\u001b[0m\u001b[1;33m\u001b[0m\u001b[1;33m\u001b[0m\u001b[0m\n",
      "\u001b[1;31mTypeError\u001b[0m: 'module' object is not callable"
     ]
    }
   ],
   "source": [
    "mlp = RandomForestRegressor() # default params.\n",
    "mlp.fit(X_train, y_train)\n",
    "\n",
    "results = measureParams(\n",
    "    RandomForestRegressor, # sklean model object without initialising i.e: without ()\n",
    "    \n",
    "    # a dictionary with keys being parameters of the model. NOTE: only numeric parameters can be plotted\n",
    "    # and values being the range of that parameter to evaluate as a list. NOTE: In ascending order\n",
    "    {\n",
    "               \n",
    "               'min_samples_split': [2, 5, 10],\n",
    "               'min_samples_leaf' : [1, 2, 4],\n",
    "               'bootstrap': [True, False]\n",
    "     }\n",
    "    # 12 iterations (len max_fun + len alpha + len max_iter)\n",
    ")"
   ]
  },
  {
   "cell_type": "code",
   "execution_count": null,
   "metadata": {},
   "outputs": [],
   "source": [
    "\n",
    "fig, axs = plt.subplots(len(results))\n",
    "for i in range(len(results)):\n",
    "    axs[i].plot(results[i][\"Xs\"], results[i][\"Ys\"]['MAE'])\n",
    "    axs[i].set_title(results[i][\"title\"])\n",
    "\n",
    "plt.ylabel(\"MAE\")\n",
    "fig.tight_layout() # Or equivalently,  \"plt.tight_layout()\"\n",
    "fig.tight_layout(pad=2.5)\n"
   ]
  },
  {
   "cell_type": "code",
   "execution_count": null,
   "metadata": {},
   "outputs": [],
   "source": [
    "X_test,y_test"
   ]
  },
  {
   "cell_type": "code",
   "execution_count": 102,
   "metadata": {},
   "outputs": [],
   "source": [
    "import os\n",
    "import pandas as pd\n",
    "from sklearn.model_selection import train_test_split\n",
    "from matplotlib import pyplot as plt\n",
    "from sklearn.ensemble import RandomForestRegressor\n",
    "from sklearn.model_selection import cross_val_score, GridSearchCV\n",
    "from sklearn.model_selection import RandomizedSearchCV\n",
    "import sklearn.metrics as metrics\n",
    "import numpy as np#\n",
    "from sklearn.datasets import load_digits\n",
    "from sklearn.model_selection import learning_curve\n",
    "from sklearn.model_selection import ShuffleSplit\n",
    "from sklearn.preprocessing import MinMaxScaler\n",
    "import math\n",
    "SEED = 111 \n",
    "os.environ['PYTHONHASHSEED'] = str(SEED)\n",
    "np.random.seed(SEED)"
   ]
  },
  {
   "cell_type": "code",
   "execution_count": 104,
   "metadata": {},
   "outputs": [],
   "source": [
    "from sklearn.model_selection import KFold "
   ]
  },
  {
   "cell_type": "code",
   "execution_count": null,
   "metadata": {},
   "outputs": [],
   "source": [
    "def training():\n",
    "    clf1 = RandomForestRegressor()\n",
    "    distributions = dict(n_estimators=[int(x) for x in np.linspace(start = 10, stop = 5000, num = 10)],\n",
    "               max_features= ['auto', 'sqrt'],\n",
    "               max_depth=[int(x) for x in np.linspace(10, 1100, num = 11)],\n",
    "               min_samples_split= [10,20,30,400],\n",
    "               min_samples_leaf = [0.01,0.1,1,1000],\n",
    "               bootstrap= [True, False])\n",
    "    clf = RandomizedSearchCV(clf1, distributions, random_state=42,n_iter = 5, cv = 5,n_jobs = -1)\n",
    "    search = clf.fit(X_train, y_train)\n",
    "    cd=search.best_params_\n",
    "    print(cd)\n",
    "    Model_updated = RandomForestRegressor (n_estimators=search.best_params_['n_estimators'],\n",
    "                          max_features= search.best_params_['max_features'], \n",
    "                          max_depth= search.best_params_['max_depth'],\n",
    "                          min_samples_split = search.best_params_['min_samples_split'],\n",
    "                          min_samples_leaf=search.best_params_['min_samples_leaf'],\n",
    "                          bootstrap=search.best_params_['bootstrap'])\n",
    "    Model_updated.fit(X_train, y_train)\n",
    "    predictions = Model_updated.predict(X_test)\n",
    "    mse = mean_squared_error(y_test, clf_predict)\n",
    "    rmse = sqrt(mse)\n",
    "    print(rmse)\n",
    "    #print('acc for test data: {:.3f}'.format(Model_updated.score(X_test, y_test)*100))\n",
    "    scores = []\n",
    "    cv = KFold(n_splits=5, random_state=42, shuffle=False)\n",
    "    #for train_index, test_index in cv.split(trn_x):\n",
    "     #   print(\"Train Index: \", train, \"\\n\")\n",
    "      #  print(\"Test Index: \", validation)\n",
    "\n",
    "    #X_train, X_test, y_train, y_test = X.iloc[train_index], X.iloc[test_index], y.iloc[train_index], y.iloc[test_index]\n",
    "    Model_updated.fit(X_train, y_train)\n",
    "    scores.append(Model_updated.score(X_test, y_test))\n",
    "    predictions = Model_updated.predict(X_test)\n",
    "    print('acc for training data: {:.3f}'.format(np.mean(scores)*100))\n",
    "    print('acc for test data: {:.3f}'.format(Model_updated.score(X_test, y_test)*100))\n",
    "    r2 = r2_score(y_test,predictions)\n",
    "    print(r2)\n",
    "    #print('Mean Absolute Error:', metrics.mean_absolute_error(val_y,predictions))\n",
    "    #print('Mean Squared Error:', metrics.mean_squared_error(val_y,predictions))\n",
    "    #print('Root Mean Squared Error:', np.sqrt(metrics.mean_squared_error(val_y,predictions)))\n",
    "training()  \n",
    "    "
   ]
  },
  {
   "cell_type": "code",
   "execution_count": null,
   "metadata": {},
   "outputs": [],
   "source": [
    "clf = RandomForestRegressor(n_estimators= 3336, min_samples_split= 30, min_samples_leaf= 1, max_features='auto', max_depth= 555, bootstrap=False) \n",
    "clf.fit(X_train, y_train)\n",
    "clf_predict = clf.predict(X_test)\n",
    "sc.scale_\n",
    "scale=1/4.35062293e-03\n",
    "scale\n",
    "clf_predict = clf_predict*scale\n",
    "y_test=y_test*scale\n",
    "#visualising the results\n",
    "plt.figure(figsize= (14,5))\n",
    "plt.plot(y_test, color ='red', label = 'Real Apple Stock Price')\n",
    "plt.plot(clf_predict, color ='blue', label = 'Predicted Apple Stock Price')\n",
    "plt.title('Apple Stock Price Prediction')\n",
    "plt.xlabel('Time')\n",
    "plt.ylabel('Apple Stock Price')\n",
    "plt.legend()\n",
    "plt.show()\n",
    "mse = mean_squared_error(y_test, clf_predict)\n",
    "rmse = sqrt(mse)\n",
    "print(rmse)"
   ]
  },
  {
   "cell_type": "code",
   "execution_count": null,
   "metadata": {},
   "outputs": [],
   "source": []
  }
 ],
 "metadata": {
  "kernelspec": {
   "display_name": "Python 3",
   "language": "python",
   "name": "python3"
  },
  "language_info": {
   "codemirror_mode": {
    "name": "ipython",
    "version": 3
   },
   "file_extension": ".py",
   "mimetype": "text/x-python",
   "name": "python",
   "nbconvert_exporter": "python",
   "pygments_lexer": "ipython3",
   "version": "3.7.6"
  }
 },
 "nbformat": 4,
 "nbformat_minor": 4
}
