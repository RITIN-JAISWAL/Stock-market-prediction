{
 "cells": [
  {
   "cell_type": "code",
   "execution_count": 43,
   "metadata": {},
   "outputs": [],
   "source": [
    "# Importing the libraries\n",
    "import numpy as np\n",
    "import matplotlib.pyplot as plt\n",
    "import pandas as pd\n",
    "from sklearn.preprocessing import MinMaxScaler\n",
    "from keras.models import Sequential\n",
    "from keras.layers import Dense, Dropout, LSTM\n",
    "from pmdarima import auto_arima"
   ]
  },
  {
   "cell_type": "code",
   "execution_count": 57,
   "metadata": {},
   "outputs": [],
   "source": [
    "dataset_hol = pd.read_csv('C:\\\\Users\\\\RITIN JAISWAL\\\\Desktop\\\\MLDM\\\\return_df.csv')\n",
    "dataset_hol.index = dataset_hol['Date']\n",
    "#dataset_hol=dataset_train.drop(['Date'], axis=1)\n",
    "df=dataset_hol"
   ]
  },
  {
   "cell_type": "code",
   "execution_count": 55,
   "metadata": {},
   "outputs": [
    {
     "data": {
      "text/html": [
       "<div>\n",
       "<style scoped>\n",
       "    .dataframe tbody tr th:only-of-type {\n",
       "        vertical-align: middle;\n",
       "    }\n",
       "\n",
       "    .dataframe tbody tr th {\n",
       "        vertical-align: top;\n",
       "    }\n",
       "\n",
       "    .dataframe thead th {\n",
       "        text-align: right;\n",
       "    }\n",
       "</style>\n",
       "<table border=\"1\" class=\"dataframe\">\n",
       "  <thead>\n",
       "    <tr style=\"text-align: right;\">\n",
       "      <th></th>\n",
       "      <th>Date</th>\n",
       "      <th>^DJI</th>\n",
       "      <th>^GSPC</th>\n",
       "      <th>MSFT</th>\n",
       "      <th>AAPL</th>\n",
       "      <th>AMZN</th>\n",
       "      <th>GOOGL</th>\n",
       "      <th>INTC</th>\n",
       "    </tr>\n",
       "    <tr>\n",
       "      <th>Date</th>\n",
       "      <th></th>\n",
       "      <th></th>\n",
       "      <th></th>\n",
       "      <th></th>\n",
       "      <th></th>\n",
       "      <th></th>\n",
       "      <th></th>\n",
       "      <th></th>\n",
       "    </tr>\n",
       "  </thead>\n",
       "  <tbody>\n",
       "    <tr>\n",
       "      <th>2005-01-04</th>\n",
       "      <td>2005-01-04</td>\n",
       "      <td>-0.009194</td>\n",
       "      <td>-0.011671</td>\n",
       "      <td>0.003739</td>\n",
       "      <td>0.010270</td>\n",
       "      <td>-0.053459</td>\n",
       "      <td>-0.040501</td>\n",
       "      <td>-0.019939</td>\n",
       "    </tr>\n",
       "    <tr>\n",
       "      <th>2005-01-05</th>\n",
       "      <td>2005-01-05</td>\n",
       "      <td>-0.003100</td>\n",
       "      <td>-0.003628</td>\n",
       "      <td>-0.002235</td>\n",
       "      <td>0.008758</td>\n",
       "      <td>-0.008780</td>\n",
       "      <td>-0.005090</td>\n",
       "      <td>-0.009730</td>\n",
       "    </tr>\n",
       "    <tr>\n",
       "      <th>2005-01-06</th>\n",
       "      <td>2005-01-06</td>\n",
       "      <td>0.002364</td>\n",
       "      <td>0.003506</td>\n",
       "      <td>-0.001120</td>\n",
       "      <td>0.000775</td>\n",
       "      <td>-0.017237</td>\n",
       "      <td>-0.025632</td>\n",
       "      <td>0.003126</td>\n",
       "    </tr>\n",
       "    <tr>\n",
       "      <th>2005-01-07</th>\n",
       "      <td>2005-01-07</td>\n",
       "      <td>-0.001781</td>\n",
       "      <td>-0.001431</td>\n",
       "      <td>-0.002991</td>\n",
       "      <td>0.072812</td>\n",
       "      <td>0.030938</td>\n",
       "      <td>0.028109</td>\n",
       "      <td>0.015138</td>\n",
       "    </tr>\n",
       "    <tr>\n",
       "      <th>2005-01-10</th>\n",
       "      <td>2005-01-10</td>\n",
       "      <td>0.001610</td>\n",
       "      <td>0.003423</td>\n",
       "      <td>0.004874</td>\n",
       "      <td>-0.004188</td>\n",
       "      <td>-0.011342</td>\n",
       "      <td>0.006242</td>\n",
       "      <td>0.003509</td>\n",
       "    </tr>\n",
       "    <tr>\n",
       "      <th>...</th>\n",
       "      <td>...</td>\n",
       "      <td>...</td>\n",
       "      <td>...</td>\n",
       "      <td>...</td>\n",
       "      <td>...</td>\n",
       "      <td>...</td>\n",
       "      <td>...</td>\n",
       "      <td>...</td>\n",
       "    </tr>\n",
       "    <tr>\n",
       "      <th>2019-12-24</th>\n",
       "      <td>2019-12-24</td>\n",
       "      <td>-0.001264</td>\n",
       "      <td>-0.000195</td>\n",
       "      <td>-0.000191</td>\n",
       "      <td>0.000951</td>\n",
       "      <td>-0.002114</td>\n",
       "      <td>-0.004590</td>\n",
       "      <td>0.003039</td>\n",
       "    </tr>\n",
       "    <tr>\n",
       "      <th>2019-12-26</th>\n",
       "      <td>2019-12-26</td>\n",
       "      <td>0.003715</td>\n",
       "      <td>0.005128</td>\n",
       "      <td>0.008197</td>\n",
       "      <td>0.019840</td>\n",
       "      <td>0.044467</td>\n",
       "      <td>0.013418</td>\n",
       "      <td>0.006901</td>\n",
       "    </tr>\n",
       "    <tr>\n",
       "      <th>2019-12-27</th>\n",
       "      <td>2019-12-27</td>\n",
       "      <td>0.000834</td>\n",
       "      <td>0.000034</td>\n",
       "      <td>0.001828</td>\n",
       "      <td>-0.000380</td>\n",
       "      <td>0.000551</td>\n",
       "      <td>-0.005747</td>\n",
       "      <td>0.004346</td>\n",
       "    </tr>\n",
       "    <tr>\n",
       "      <th>2019-12-30</th>\n",
       "      <td>2019-12-30</td>\n",
       "      <td>-0.006393</td>\n",
       "      <td>-0.005781</td>\n",
       "      <td>-0.008619</td>\n",
       "      <td>0.005935</td>\n",
       "      <td>-0.012253</td>\n",
       "      <td>-0.011021</td>\n",
       "      <td>-0.007657</td>\n",
       "    </tr>\n",
       "    <tr>\n",
       "      <th>2019-12-31</th>\n",
       "      <td>2019-12-31</td>\n",
       "      <td>0.002681</td>\n",
       "      <td>0.002946</td>\n",
       "      <td>0.000698</td>\n",
       "      <td>0.007306</td>\n",
       "      <td>0.000514</td>\n",
       "      <td>-0.000239</td>\n",
       "      <td>0.003858</td>\n",
       "    </tr>\n",
       "  </tbody>\n",
       "</table>\n",
       "<p>3774 rows × 8 columns</p>\n",
       "</div>"
      ],
      "text/plain": [
       "                  Date      ^DJI     ^GSPC      MSFT      AAPL      AMZN  \\\n",
       "Date                                                                       \n",
       "2005-01-04  2005-01-04 -0.009194 -0.011671  0.003739  0.010270 -0.053459   \n",
       "2005-01-05  2005-01-05 -0.003100 -0.003628 -0.002235  0.008758 -0.008780   \n",
       "2005-01-06  2005-01-06  0.002364  0.003506 -0.001120  0.000775 -0.017237   \n",
       "2005-01-07  2005-01-07 -0.001781 -0.001431 -0.002991  0.072812  0.030938   \n",
       "2005-01-10  2005-01-10  0.001610  0.003423  0.004874 -0.004188 -0.011342   \n",
       "...                ...       ...       ...       ...       ...       ...   \n",
       "2019-12-24  2019-12-24 -0.001264 -0.000195 -0.000191  0.000951 -0.002114   \n",
       "2019-12-26  2019-12-26  0.003715  0.005128  0.008197  0.019840  0.044467   \n",
       "2019-12-27  2019-12-27  0.000834  0.000034  0.001828 -0.000380  0.000551   \n",
       "2019-12-30  2019-12-30 -0.006393 -0.005781 -0.008619  0.005935 -0.012253   \n",
       "2019-12-31  2019-12-31  0.002681  0.002946  0.000698  0.007306  0.000514   \n",
       "\n",
       "               GOOGL      INTC  \n",
       "Date                            \n",
       "2005-01-04 -0.040501 -0.019939  \n",
       "2005-01-05 -0.005090 -0.009730  \n",
       "2005-01-06 -0.025632  0.003126  \n",
       "2005-01-07  0.028109  0.015138  \n",
       "2005-01-10  0.006242  0.003509  \n",
       "...              ...       ...  \n",
       "2019-12-24 -0.004590  0.003039  \n",
       "2019-12-26  0.013418  0.006901  \n",
       "2019-12-27 -0.005747  0.004346  \n",
       "2019-12-30 -0.011021 -0.007657  \n",
       "2019-12-31 -0.000239  0.003858  \n",
       "\n",
       "[3774 rows x 8 columns]"
      ]
     },
     "execution_count": 55,
     "metadata": {},
     "output_type": "execute_result"
    }
   ],
   "source": [
    "dataset_hol\n"
   ]
  },
  {
   "cell_type": "code",
   "execution_count": 74,
   "metadata": {},
   "outputs": [
    {
     "name": "stdout",
     "output_type": "stream",
     "text": [
      "Epoch 1/1\n",
      " - 110s - loss: 0.0036\n"
     ]
    }
   ],
   "source": [
    "#creating dataframe\n",
    "data = dataset_hol.sort_index(ascending=True, axis=0)\n",
    "new_data = pd.DataFrame(index=range(0,len(df)),columns=['Date', 'MSFT'])\n",
    "for i in range(0,len(data)):\n",
    "    new_data['Date'][i] = data['Date'][i]\n",
    "    new_data['MSFT'][i] = data['MSFT'][i]\n",
    "\n",
    "#setting index\n",
    "new_data.index = new_data.Date\n",
    "new_data.drop('Date', axis=1, inplace=True)\n",
    "\n",
    "#creating train and test sets\n",
    "dataset = new_data.values\n",
    "\n",
    "train = new_data[:3711]\n",
    "valid = new_data[3711:]\n",
    "\n",
    "#converting dataset into x_train and y_train\n",
    "scaler = MinMaxScaler(feature_range=(0, 1))\n",
    "scaled_data = scaler.fit_transform(dataset)\n",
    "\n",
    "x_train, y_train = [], []\n",
    "for i in range(60,len(train)):\n",
    "    x_train.append(scaled_data[i-60:i,0])\n",
    "    y_train.append(scaled_data[i,0])\n",
    "x_train, y_train = np.array(x_train), np.array(y_train)\n",
    "\n",
    "x_train = np.reshape(x_train, (x_train.shape[0],x_train.shape[1],1))\n",
    "\n",
    "# create and fit the LSTM network\n",
    "model = Sequential()\n",
    "model.add(LSTM(units=50, return_sequences=True, input_shape=(x_train.shape[1],1)))\n",
    "model.add(LSTM(units=50))\n",
    "model.add(Dense(1))\n",
    "\n",
    "model.compile(loss='mean_squared_error', optimizer='adam')\n",
    "model.fit(x_train, y_train, epochs=1, batch_size=1, verbose=2)\n",
    "\n",
    "#predicting 246 values, using past 60 from the train data\n",
    "inputs = new_data[len(new_data) - len(valid) - 60:].values\n",
    "inputs = inputs.reshape(-1,1)\n",
    "inputs  = scaler.transform(inputs)\n",
    "\n",
    "X_test = []\n",
    "for i in range(60,inputs.shape[0]):\n",
    "    X_test.append(inputs[i-60:i,0])\n",
    "X_test = np.array(X_test)\n",
    "\n",
    "X_test = np.reshape(X_test, (X_test.shape[0],X_test.shape[1],1))\n",
    "closing_price = model.predict(X_test)\n",
    "closing_price = scaler.inverse_transform(closing_price)"
   ]
  },
  {
   "cell_type": "code",
   "execution_count": 75,
   "metadata": {},
   "outputs": [
    {
     "name": "stderr",
     "output_type": "stream",
     "text": [
      "<ipython-input-75-f59672a3fc52>:5: SettingWithCopyWarning: \n",
      "A value is trying to be set on a copy of a slice from a DataFrame.\n",
      "Try using .loc[row_indexer,col_indexer] = value instead\n",
      "\n",
      "See the caveats in the documentation: https://pandas.pydata.org/pandas-docs/stable/user_guide/indexing.html#returning-a-view-versus-a-copy\n",
      "  valid['MSFT1'] = closing_price\n"
     ]
    },
    {
     "data": {
      "text/plain": [
       "[<matplotlib.lines.Line2D at 0x1ff16cc7c10>,\n",
       " <matplotlib.lines.Line2D at 0x1ff16cc7e20>]"
      ]
     },
     "execution_count": 75,
     "metadata": {},
     "output_type": "execute_result"
    },
    {
     "data": {
      "image/png": "[encoded data removed]",
      "text/plain": [
       "<Figure size 1152x576 with 1 Axes>"
      ]
     },
     "metadata": {
      "needs_background": "light"
     },
     "output_type": "display_data"
    }
   ],
   "source": [
    "#for plotting\n",
    "plt.figure(figsize=(16,8))\n",
    "train = new_data[:3711]\n",
    "valid = new_data[3711:]\n",
    "valid['MSFT1'] = closing_price\n",
    "plt.plot(train['MSFT'])\n",
    "plt.plot(valid[['MSFT','MSFT1']])"
   ]
  },
  {
   "cell_type": "code",
   "execution_count": 76,
   "metadata": {},
   "outputs": [],
   "source": [
    "from math import sqrt\n",
    "from sklearn.metrics import mean_squared_error, r2_score\n",
    "mse = mean_squared_error(valid['MSFT'],valid['MSFT1'])\n",
    "rmse = sqrt(mse)"
   ]
  },
  {
   "cell_type": "code",
   "execution_count": 77,
   "metadata": {},
   "outputs": [
    {
     "data": {
      "text/plain": [
       "0.019510721321017607"
      ]
     },
     "execution_count": 77,
     "metadata": {},
     "output_type": "execute_result"
    }
   ],
   "source": [
    "rmse\n"
   ]
  },
  {
   "cell_type": "code",
   "execution_count": null,
   "metadata": {},
   "outputs": [],
   "source": []
  }
 ],
 "metadata": {
  "kernelspec": {
   "display_name": "Python 3",
   "language": "python",
   "name": "python3"
  },
  "language_info": {
   "codemirror_mode": {
    "name": "ipython",
    "version": 3
   },
   "file_extension": ".py",
   "mimetype": "text/x-python",
   "name": "python",
   "nbconvert_exporter": "python",
   "pygments_lexer": "ipython3",
   "version": "3.8.3"
  }
 },
 "nbformat": 4,
 "nbformat_minor": 4
}
